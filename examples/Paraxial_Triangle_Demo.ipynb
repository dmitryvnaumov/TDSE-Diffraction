{
 "cells": [
  {
   "cell_type": "code",
   "execution_count": 6,
   "id": "39f3c2b9",
   "metadata": {},
   "outputs": [
    {
     "name": "stdout",
     "output_type": "stream",
     "text": [
      "/Users/dmitrijnaumov/Documents/dnaumov_documents/Papers/TwistedBeams_PRD/TDSE-Diffraction/.venv/bin/python\n",
      "/Users/dmitrijnaumov/Documents/dnaumov_documents/Papers/TwistedBeams_PRD/TDSE-Diffraction/tdse/__init__.py\n"
     ]
    }
   ],
   "source": [
    "import sys, os\n",
    "sys.path.append(os.path.abspath(\"..\"))     # repo root\n",
    "import tdse\n",
    "print(sys.executable)         # should end with .../.venv/bin/python\n",
    "print(tdse.__file__)          # should point into your repo\n",
    "import numpy as np\n",
    "import matplotlib.pyplot as plt\n",
    "from ipywidgets import interact, FloatSlider, IntSlider, Checkbox\n",
    "\n",
    "# Try to import tdse package\n",
    "try:\n",
    "    from tdse import Grid2D, ParaxialPropagator, apply_mask_2d, run2d\n",
    "    from tdse.units import k0_from_energy\n",
    "    from tdse.apertures import triangle_mask\n",
    "except ImportError as e:\n",
    "    raise ImportError(\"Cannot import tdse. Run `pip install -e .` from the repo root.\") from e\n"
   ]
  },
  {
   "cell_type": "code",
   "execution_count": 7,
   "id": "1aea0957",
   "metadata": {},
   "outputs": [],
   "source": [
    "\n",
    "def make_oam_envelope(x, y, waist_m, ell):\n",
    "    X, Y = np.meshgrid(x, y, indexing=\"ij\")\n",
    "    rho2 = X**2 + Y**2\n",
    "    phi = np.arctan2(Y, X)\n",
    "    return (np.sqrt(rho2)/waist_m)**abs(ell) * np.exp(-rho2/waist_m**2) * np.exp(1j*ell*phi)\n"
   ]
  },
  {
   "cell_type": "code",
   "execution_count": 8,
   "id": "7c20ef9d",
   "metadata": {},
   "outputs": [],
   "source": [
    "\n",
    "def simulate(E_keV=100.0, ell=5, side_um=0.5, waist_um=1.0,\n",
    "             FOV_um=8.0, Nx=512, dz_um=5000.0,\n",
    "             z1_um=20000.0, z2_um=50000.0, z3_um=80000.0,\n",
    "             auto_view=True, same_axes=False,\n",
    "             view_frac=0.95, pad=1.2, rotation_deg=0.0):\n",
    "\n",
    "    # Units\n",
    "    E_eV = E_keV * 1e3\n",
    "    k0 = k0_from_energy(E_eV)\n",
    "    side = side_um * 1e-6\n",
    "    waist = waist_um * 1e-6\n",
    "    FOV = FOV_um * 1e-6\n",
    "    dz = dz_um * 1e-6\n",
    "    z_list = [z1_um*1e-6, z2_um*1e-6, z3_um*1e-6]\n",
    "\n",
    "    dx = FOV/Nx\n",
    "    g = Grid2D(Nx, Nx, dx, dx)\n",
    "    prop = ParaxialPropagator(g, k0=k0, dz=dz)\n",
    "\n",
    "    lam = 2*np.pi/k0\n",
    "    print(f\"λ={lam*1e12:.3f} pm | k0={k0:.3e} rad/m | dx={dx*1e9:.2f} nm\")\n",
    "\n",
    "    # mask\n",
    "    A = triangle_mask(g.x, g.y, center=(0.0,0.0), side=side, rotation_deg=rotation_deg, smooth=10e-9)\n",
    "\n",
    "    # initial field\n",
    "    u = make_oam_envelope(g.x, g.y, waist, ell)\n",
    "    apply_mask_2d(u, A)\n",
    "\n",
    "    # collect planes\n",
    "    target_steps = sorted({int(round(z/dz)) for z in z_list})\n",
    "    max_steps = max(target_steps)+1\n",
    "    planes = {}\n",
    "\n",
    "    def on_measure(step, u_xy):\n",
    "        if step not in target_steps or step in planes:\n",
    "            return\n",
    "        I = np.abs(u_xy)**2\n",
    "        I /= I.max() + 1e-30\n",
    "        z_here = step*dz\n",
    "        crop=None\n",
    "        if auto_view:\n",
    "            X,Y = np.meshgrid(g.x,g.y,indexing=\"ij\")\n",
    "            R = np.hypot(X,Y)\n",
    "            r_flat = R.ravel()\n",
    "            w_flat = (I/I.sum()).ravel()\n",
    "            order = np.argsort(r_flat)\n",
    "            csum = np.cumsum(w_flat[order])\n",
    "            idx = np.searchsorted(csum, view_frac, side=\"left\")\n",
    "            r_q = r_flat[order][min(idx,len(order)-1)]\n",
    "            r_view = pad*max(r_q,3*dx)\n",
    "            ix = np.where((g.x >= -r_view)&(g.x<=r_view))[0]\n",
    "            iy = np.where((g.y >= -r_view)&(g.y<=r_view))[0]\n",
    "            if len(ix) and len(iy):\n",
    "                crop=(ix[0],ix[-1],iy[0],iy[-1])\n",
    "        planes[step]=(z_here,I,crop)\n",
    "\n",
    "    run2d(u,prop,steps=max_steps,on_measure=on_measure)\n",
    "\n",
    "    # plotting\n",
    "    shared_extent=None\n",
    "    if same_axes:\n",
    "        xmin,xmax=g.x[0],g.x[-1]; ymin,ymax=g.y[0],g.y[-1]\n",
    "        for _,(_,_,crop) in planes.items():\n",
    "            if crop:\n",
    "                i0,i1,j0,j1=crop\n",
    "                xmin=min(xmin,g.x[i0]); xmax=max(xmax,g.x[i1])\n",
    "                ymin=min(ymin,g.y[j0]); ymax=max(ymax,g.y[j1])\n",
    "        shared_extent=[xmin*1e6,xmax*1e6,ymin*1e6,ymax*1e6]\n",
    "\n",
    "    ncols=len(planes)\n",
    "    fig,axes=plt.subplots(1,ncols,figsize=(4*ncols,4),constrained_layout=True)\n",
    "    if ncols==1: axes=[axes]\n",
    "    for ax,step in zip(axes,sorted(planes.keys())):\n",
    "        z_here,I,crop=planes[step]\n",
    "        if auto_view and (crop is not None) and not same_axes:\n",
    "            i0,i1,j0,j1=crop\n",
    "            Iplot=I[i0:i1+1,j0:j1+1]\n",
    "            extent=[g.x[i0]*1e6,g.x[i1]*1e6,g.y[j0]*1e6,g.y[j1]*1e6]\n",
    "        else:\n",
    "            Iplot=I\n",
    "            extent=shared_extent if same_axes else [g.x[0]*1e6,g.x[-1]*1e6,g.y[0]*1e6,g.y[-1]*1e6]\n",
    "        im=ax.imshow(Iplot.T,origin=\"lower\",extent=extent,aspect=\"equal\",vmin=0,vmax=1)\n",
    "        ax.set_title(f\"z ≈ {z_here*1e6:.0f} µm\")\n",
    "        ax.set_xlabel(\"x (µm)\"); ax.set_ylabel(\"y (µm)\")\n",
    "        fig.colorbar(im,ax=ax,shrink=0.85,label=\"norm. intensity\")\n",
    "\n",
    "    plt.suptitle(f\"Paraxial triangle | ℓ={ell} | E={E_keV} keV | side={side_um} µm\")\n",
    "    plt.show()\n"
   ]
  },
  {
   "cell_type": "code",
   "execution_count": 9,
   "id": "a2b6905a",
   "metadata": {},
   "outputs": [
    {
     "data": {
      "application/vnd.jupyter.widget-view+json": {
       "model_id": "46afb5638f9949da9cae5ad8714bde55",
       "version_major": 2,
       "version_minor": 0
      },
      "text/plain": [
       "interactive(children=(FloatSlider(value=100.0, description='E (keV)', max=300.0, min=10.0, step=10.0), IntSlid…"
      ]
     },
     "metadata": {},
     "output_type": "display_data"
    }
   ],
   "source": [
    "\n",
    "interact(simulate,\n",
    "         E_keV=FloatSlider(value=100,min=10,max=300,step=10,description=\"E (keV)\"),\n",
    "         ell=IntSlider(value=5,min=-10,max=10,step=1,description=\"ℓ\"),\n",
    "         side_um=FloatSlider(value=0.5,min=0.1,max=5,step=0.1,description=\"side (µm)\"),\n",
    "         waist_um=FloatSlider(value=1.0,min=0.1,max=10,step=0.1,description=\"waist (µm)\"),\n",
    "         FOV_um=FloatSlider(value=8.0,min=2,max=20,step=1,description=\"FOV (µm)\"),\n",
    "         Nx=IntSlider(value=512,min=128,max=1024,step=128,description=\"Nx\"),\n",
    "         dz_um=FloatSlider(value=5000,min=1000,max=20000,step=1000,description=\"dz (µm)\"),\n",
    "         z1_um=FloatSlider(value=20000,min=1000,max=100000,step=1000,description=\"z1 (µm)\"),\n",
    "         z2_um=FloatSlider(value=50000,min=1000,max=100000,step=1000,description=\"z2 (µm)\"),\n",
    "         z3_um=FloatSlider(value=80000,min=1000,max=100000,step=1000,description=\"z3 (µm)\"),\n",
    "         auto_view=Checkbox(value=True,description=\"auto_view\"),\n",
    "         same_axes=Checkbox(value=False,description=\"same_axes\"),\n",
    "         rotation_deg=FloatSlider(value=0.0,min=0.0,max=360,step=0.1,description=\"rotation of aperture(deg)\"));\n"
   ]
  },
  {
   "cell_type": "code",
   "execution_count": null,
   "id": "be4a9a09-5480-46e6-989c-56646e9018d4",
   "metadata": {},
   "outputs": [],
   "source": []
  }
 ],
 "metadata": {
  "kernelspec": {
   "display_name": "Python (tdse)",
   "language": "python",
   "name": "tdse-env"
  },
  "language_info": {
   "codemirror_mode": {
    "name": "ipython",
    "version": 3
   },
   "file_extension": ".py",
   "mimetype": "text/x-python",
   "name": "python",
   "nbconvert_exporter": "python",
   "pygments_lexer": "ipython3",
   "version": "3.12.3"
  }
 },
 "nbformat": 4,
 "nbformat_minor": 5
}
